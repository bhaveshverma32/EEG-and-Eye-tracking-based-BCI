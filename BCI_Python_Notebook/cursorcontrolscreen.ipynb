{
 "cells": [
  {
   "cell_type": "code",
   "execution_count": null,
   "id": "20b76365",
   "metadata": {},
   "outputs": [
    {
     "name": "stdout",
     "output_type": "stream",
     "text": [
      "start\n",
      "x_dim: 1536, y_dim: 864\n"
     ]
    }
   ],
   "source": [
    "\"\"\"\n",
    "Stream Pupil gaze coordinate data using zmq to control a mouse with your eye.\n",
    "Please note that marker tracking must be enabled, and in this example we have named the surface \"screen.\"\n",
    "You can name the surface what you like in Pupil capture and then write the name of the surface you'd like to use on line 17.\n",
    "\"\"\"\n",
    "print(\"start\")\n",
    "# specify the name of the surface you want to use\n",
    "surface_name = \"Surface1\"\n",
    "\n",
    "## install dependencies\n",
    "# pip3 install zmq msgpack pyuserinput\n",
    "\n",
    "import zmq\n",
    "from msgpack import loads\n",
    "import subprocess as sp\n",
    "from platform import system\n",
    "\n",
    "try:\n",
    "    from pymouse import PyMouse\n",
    "except ImportError:\n",
    "    msg = \"\"\"\n",
    "    Please install PyMouse from PyUserInput\n",
    "    https://github.com/PyUserInput/PyUserInput\n",
    "\n",
    "    pip install PyUserInput\n",
    "    \"\"\"\n",
    "    print(msg)\n",
    "    exit(1)\n",
    "\n",
    "\n",
    "m = PyMouse()\n",
    "\n",
    "\n",
    "context = zmq.Context()\n",
    "# open a req port to talk to pupil\n",
    "addr = \"127.0.0.1\"  # remote ip or localhost\n",
    "req_port = \"50020\"  # same as in the pupil remote gui\n",
    "req = context.socket(zmq.REQ)\n",
    "req.connect(\"tcp://{}:{}\".format(addr, req_port))\n",
    "# ask for the sub port\n",
    "req.send_string(\"SUB_PORT\")\n",
    "sub_port = req.recv_string()\n",
    "\n",
    "# open a sub port to listen to pupil\n",
    "sub = context.socket(zmq.SUB)\n",
    "sub.connect(\"tcp://{}:{}\".format(addr, sub_port))\n",
    "sub.setsockopt_string(zmq.SUBSCRIBE, f\"surfaces.{surface_name}\")\n",
    "\n",
    "smooth_x, smooth_y = 0.5, 0.5\n",
    "\n",
    "# screen size\n",
    "x_dim, y_dim = m.screen_size()\n",
    "print(\"x_dim: {}, y_dim: {}\".format(x_dim, y_dim))\n",
    "\n",
    "while True:\n",
    "    \n",
    "    sub\n",
    "    topic, msg = sub.recv_multipart()\n",
    "\n",
    "    gaze_position = loads(msg, raw=False)\n",
    "    \n",
    "    if gaze_position[\"name\"] == surface_name:\n",
    "        gaze_on_screen = gaze_position[\"gaze_on_surfaces\"]\n",
    "#         print(gaze_on_screen)\n",
    "\n",
    "        if len(gaze_on_screen) > 0:\n",
    "\n",
    "            # there may be multiple gaze positions per frame, so you could average them\n",
    "            # raw_x = sum([i['norm_pos'][0] for i in gaze_on_screen])/len(gaze_on_screen)\n",
    "            # raw_y = sum([i['norm_pos'][1] for i in gaze_on_screen])/len(gaze_on_screen)\n",
    "\n",
    "            # or just use the most recent gaze position on the surface\n",
    "            raw_x, raw_y = gaze_on_screen[-1][\"norm_pos\"]\n",
    "\n",
    "            # smoothing out the gaze so the mouse has smoother movement\n",
    "            smooth_x += 0.35 * (raw_x - smooth_x)\n",
    "            smooth_y += 0.35 * (raw_y - smooth_y)\n",
    "            x = smooth_x\n",
    "            y = smooth_y\n",
    "\n",
    "            y = 1 - y  # inverting y so it shows up correctly on screen\n",
    "            x *= int(x_dim)\n",
    "            y *= int(y_dim)\n",
    "            # PyMouse or MacOS bugfix - can not go to extreme corners because of hot corners?\n",
    "            x = min(x_dim - 10, max(10, x))\n",
    "            y = min(y_dim - 10, max(10, y))\n",
    "\n",
    "            # print \"%s,%s\\n\" %(x,y)\n",
    "#             m.move(int(x), int(y))\n",
    "\n"
   ]
  },
  {
   "cell_type": "code",
   "execution_count": 4,
   "id": "2be8e445",
   "metadata": {},
   "outputs": [
    {
     "data": {
      "text/plain": [
       "20"
      ]
     },
     "execution_count": 4,
     "metadata": {},
     "output_type": "execute_result"
    }
   ],
   "source": [
    "a=10\n",
    "a *= 2\n",
    "a"
   ]
  },
  {
   "cell_type": "code",
   "execution_count": null,
   "id": "a64893a2",
   "metadata": {},
   "outputs": [],
   "source": []
  }
 ],
 "metadata": {
  "kernelspec": {
   "display_name": "Python 3 (ipykernel)",
   "language": "python",
   "name": "python3"
  },
  "language_info": {
   "codemirror_mode": {
    "name": "ipython",
    "version": 3
   },
   "file_extension": ".py",
   "mimetype": "text/x-python",
   "name": "python",
   "nbconvert_exporter": "python",
   "pygments_lexer": "ipython3",
   "version": "3.9.13"
  }
 },
 "nbformat": 4,
 "nbformat_minor": 5
}
